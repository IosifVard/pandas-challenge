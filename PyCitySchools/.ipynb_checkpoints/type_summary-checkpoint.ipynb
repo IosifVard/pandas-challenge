{
 "cells": [
  {
   "cell_type": "code",
   "execution_count": 24,
   "id": "ce3434a7-df9e-4479-b753-f5a948d96083",
   "metadata": {},
   "outputs": [],
   "source": [
    "import pandas as pd"
   ]
  },
  {
   "cell_type": "code",
   "execution_count": 25,
   "id": "cab530a0-f9df-4644-bf83-4f901e4eaacd",
   "metadata": {},
   "outputs": [],
   "source": [
    "# Load the dataset\n",
    "school_data = pd.read_csv('../PyCitySchools/Resources/schools_complete.csv')\n",
    "students_data = pd.read_csv('../PyCitySchools/Resources/students_complete.csv')"
   ]
  },
  {
   "cell_type": "code",
   "execution_count": 26,
   "id": "d52be1e6-5037-468d-8791-2b55849b29c8",
   "metadata": {},
   "outputs": [],
   "source": [
    "# Merge the two datasets on school name to combine all necessary information\n",
    "combined_data = pd.merge(students_data, school_data, how=\"left\", on=[\"school_name\"])"
   ]
  },
  {
   "cell_type": "code",
   "execution_count": 39,
   "id": "5627e6d4-9aab-445c-9506-6f8ecb834939",
   "metadata": {},
   "outputs": [],
   "source": [
    "# Group by school and calculate the required metrics\n",
    "# 'type' column indicates the School Type\n",
    "per_school_summary = combined_data.groupby('school_name').agg({\n",
    "    'Student ID': 'count',\n",
    "    'math_score': 'mean',\n",
    "    'reading_score': 'mean',\n",
    "    'budget': 'mean',\n",
    "    'type': 'first' \n",
    "}).rename(columns={\n",
    "    'Student ID': 'Total Students',\n",
    "    'math_score': 'Average Math Score',\n",
    "    'reading_score': 'Average Reading Score',\n",
    "    'budget': 'Budget',\n",
    "    'type': 'School Type'})"
   ]
  },
  {
   "cell_type": "code",
   "execution_count": 40,
   "id": "6871741f-f760-48aa-845e-ed7a03f9efda",
   "metadata": {},
   "outputs": [],
   "source": [
    "# Calculate % passing math and reading for each school\n",
    "per_school_summary['% Passing Math'] = combined_data[combined_data['math_score'] >= 70].groupby('school_name')['Student ID'].count() / per_school_summary['Total Students'] * 100\n",
    "per_school_summary['% Passing Reading'] = combined_data[combined_data['reading_score'] >= 70].groupby('school_name')['Student ID'].count() / per_school_summary['Total Students'] * 100"
   ]
  },
  {
   "cell_type": "code",
   "execution_count": 41,
   "id": "239c119b-c3cd-42a3-b4fc-380a54eaa07a",
   "metadata": {},
   "outputs": [],
   "source": [
    "# Calculate % overall passing (students passing both math and reading)\n",
    "per_school_summary['% Overall Passing'] = combined_data[(combined_data['math_score'] >= 70) & (combined_data['reading_score'] >= 70)].groupby('school_name')['Student ID'].count() / per_school_summary['Total Students'] * 100"
   ]
  },
  {
   "cell_type": "code",
   "execution_count": 42,
   "id": "ad2d990e-8279-4d56-8499-33a4485e04b5",
   "metadata": {},
   "outputs": [],
   "source": [
    "#Group by 'type' and calculate the mean for each performance metric\n",
    "type_summary = per_school_summary.groupby('School Type').agg({\n",
    "    'Average Math Score': 'mean',\n",
    "    'Average Reading Score': 'mean',\n",
    "    '% Passing Math': 'mean',\n",
    "    '% Passing Reading': 'mean',\n",
    "    '% Overall Passing': 'mean'\n",
    "}).reset_index()"
   ]
  },
  {
   "cell_type": "code",
   "execution_count": 43,
   "id": "004efbe4-6bad-4418-a2ec-d7b239928d89",
   "metadata": {},
   "outputs": [
    {
     "name": "stdout",
     "output_type": "stream",
     "text": [
      "  School Type  Average Math Score  Average Reading Score  % Passing Math  \\\n",
      "0     Charter           83.473852              83.896421       93.620830   \n",
      "1    District           76.956733              80.966636       66.548453   \n",
      "\n",
      "   % Passing Reading  % Overall Passing  \n",
      "0          96.586489          90.432244  \n",
      "1          80.799062          53.672208  \n"
     ]
    }
   ],
   "source": [
    "# Display the type_summary DataFrame\n",
    "print(type_summary)"
   ]
  },
  {
   "cell_type": "code",
   "execution_count": null,
   "id": "9737bf3c-3cb1-416d-ad44-79713ffa7a2b",
   "metadata": {},
   "outputs": [],
   "source": []
  }
 ],
 "metadata": {
  "kernelspec": {
   "display_name": "Python 3 (ipykernel)",
   "language": "python",
   "name": "python3"
  },
  "language_info": {
   "codemirror_mode": {
    "name": "ipython",
    "version": 3
   },
   "file_extension": ".py",
   "mimetype": "text/x-python",
   "name": "python",
   "nbconvert_exporter": "python",
   "pygments_lexer": "ipython3",
   "version": "3.11.7"
  }
 },
 "nbformat": 4,
 "nbformat_minor": 5
}

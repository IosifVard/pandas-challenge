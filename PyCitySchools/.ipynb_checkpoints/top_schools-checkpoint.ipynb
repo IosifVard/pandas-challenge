{
 "cells": [
  {
   "cell_type": "code",
   "execution_count": 15,
   "id": "91606d98-f590-4a9a-b80d-e76bbc49dc25",
   "metadata": {},
   "outputs": [],
   "source": [
    "import pandas as pd"
   ]
  },
  {
   "cell_type": "code",
   "execution_count": 16,
   "id": "4d648b40-3fc3-493f-847c-a7a6fdc739dd",
   "metadata": {},
   "outputs": [],
   "source": [
    "# Load the dataset\n",
    "school_data = pd.read_csv('../PyCitySchools/Resources/schools_complete.csv')\n",
    "students_data = pd.read_csv('../PyCitySchools/Resources/students_complete.csv')"
   ]
  },
  {
   "cell_type": "code",
   "execution_count": 18,
   "id": "4253edff-eea0-4546-b9ba-4e7a8e1b3877",
   "metadata": {},
   "outputs": [],
   "source": [
    "# Merge the two datasets on school name to combine all necessary information\n",
    "combined_data = pd.merge(students_data, school_data, how=\"left\", on=[\"school_name\"])"
   ]
  },
  {
   "cell_type": "code",
   "execution_count": 19,
   "id": "0aa45f83-c7ec-4592-9b14-45d5be06dbba",
   "metadata": {},
   "outputs": [],
   "source": [
    "# Calculate % Overall Passing for each school\n",
    "school_summary = combined_data.groupby('school_name').agg({\n",
    "    'Student ID': 'count',\n",
    "    'math_score': 'mean',\n",
    "    'reading_score': 'mean',\n",
    "    'budget': 'mean'\n",
    "}).rename(columns={\n",
    "    'Student ID': 'Total Students',\n",
    "    'math_score': 'Average Math Score',\n",
    "    'reading_score': 'Average Reading Score',\n",
    "    'budget': 'Budget'\n",
    "})"
   ]
  },
  {
   "cell_type": "code",
   "execution_count": 20,
   "id": "8fe9396c-2624-4f94-b98c-17223678c014",
   "metadata": {},
   "outputs": [],
   "source": [
    "# Calculate % passing math and reading for each school\n",
    "school_summary['% Passing Math'] = combined_data[combined_data['math_score'] >= 70].groupby('school_name')['Student ID'].count() / school_summary['Total Students'] * 100\n",
    "school_summary['% Passing Reading'] = combined_data[combined_data['reading_score'] >= 70].groupby('school_name')['Student ID'].count() / school_summary['Total Students'] * 100"
   ]
  },
  {
   "cell_type": "code",
   "execution_count": 21,
   "id": "8116ab84-70da-4c32-ac50-1186da9f9479",
   "metadata": {},
   "outputs": [],
   "source": [
    "# Calculate % Overall Passing for each school\n",
    "school_summary['% Overall Passing'] = combined_data[(combined_data['math_score'] >= 70) & (combined_data['reading_score'] >= 70)].groupby('school_name')['Student ID'].count() / school_summary['Total Students'] * 100"
   ]
  },
  {
   "cell_type": "code",
   "execution_count": 22,
   "id": "12731b32-bae5-4884-8aaf-c8be89a1b61d",
   "metadata": {},
   "outputs": [],
   "source": [
    "# Sort the schools by % Overall Passing in descending order\n",
    "top_schools = school_summary.sort_values(by='% Overall Passing', ascending=False).head(5)"
   ]
  },
  {
   "cell_type": "code",
   "execution_count": 23,
   "id": "676554b6-1223-4d93-ab9f-f4d4c0c37abd",
   "metadata": {},
   "outputs": [
    {
     "name": "stdout",
     "output_type": "stream",
     "text": [
      "                     Total Students  Average Math Score  \\\n",
      "school_name                                               \n",
      "Cabrera High School            1858           83.061895   \n",
      "Thomas High School             1635           83.418349   \n",
      "Griffin High School            1468           83.351499   \n",
      "Wilson High School             2283           83.274201   \n",
      "Pena High School                962           83.839917   \n",
      "\n",
      "                     Average Reading Score     Budget  % Passing Math  \\\n",
      "school_name                                                             \n",
      "Cabrera High School              83.975780  1081356.0       94.133477   \n",
      "Thomas High School               83.848930  1043130.0       93.272171   \n",
      "Griffin High School              83.816757   917500.0       93.392371   \n",
      "Wilson High School               83.989488  1319574.0       93.867718   \n",
      "Pena High School                 84.044699   585858.0       94.594595   \n",
      "\n",
      "                     % Passing Reading  % Overall Passing  \n",
      "school_name                                                \n",
      "Cabrera High School          97.039828          91.334769  \n",
      "Thomas High School           97.308869          90.948012  \n",
      "Griffin High School          97.138965          90.599455  \n",
      "Wilson High School           96.539641          90.582567  \n",
      "Pena High School             95.945946          90.540541  \n"
     ]
    }
   ],
   "source": [
    "# Display the top 5 schools\n",
    "print(top_schools)"
   ]
  },
  {
   "cell_type": "code",
   "execution_count": 10,
   "id": "76ea2aa7-6e0f-49f3-a4a4-bd3573509db6",
   "metadata": {},
   "outputs": [],
   "source": []
  },
  {
   "cell_type": "code",
   "execution_count": 11,
   "id": "3d5c8940-b9d8-4975-a847-f88daef74985",
   "metadata": {},
   "outputs": [],
   "source": []
  },
  {
   "cell_type": "code",
   "execution_count": 12,
   "id": "e63ce28c-c207-4050-a352-8bfad2a5d3ff",
   "metadata": {},
   "outputs": [],
   "source": []
  },
  {
   "cell_type": "code",
   "execution_count": 13,
   "id": "7d252aad-ca64-4ba1-8536-cb2d0d30147d",
   "metadata": {},
   "outputs": [],
   "source": []
  },
  {
   "cell_type": "code",
   "execution_count": 14,
   "id": "85710b14-8dbf-4e12-abf1-0d43ea1abc37",
   "metadata": {},
   "outputs": [
    {
     "name": "stdout",
     "output_type": "stream",
     "text": [
      "   Total Schools  Total Students  Total Budget  Average Math Score  \\\n",
      "0             15           39170      24649428           78.985371   \n",
      "\n",
      "   Average Reading Score  % Passing Math  % Passing Reading  % Overall Passing  \n",
      "0               81.87784       74.980853          85.805463          65.172326  \n"
     ]
    }
   ],
   "source": []
  },
  {
   "cell_type": "code",
   "execution_count": null,
   "id": "0d967c1f-168d-4054-86d2-0d343ebbd89b",
   "metadata": {},
   "outputs": [],
   "source": []
  }
 ],
 "metadata": {
  "kernelspec": {
   "display_name": "Python 3 (ipykernel)",
   "language": "python",
   "name": "python3"
  },
  "language_info": {
   "codemirror_mode": {
    "name": "ipython",
    "version": 3
   },
   "file_extension": ".py",
   "mimetype": "text/x-python",
   "name": "python",
   "nbconvert_exporter": "python",
   "pygments_lexer": "ipython3",
   "version": "3.11.7"
  }
 },
 "nbformat": 4,
 "nbformat_minor": 5
}

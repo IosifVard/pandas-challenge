{
 "cells": [
  {
   "cell_type": "code",
   "execution_count": 42,
   "id": "a600b61b-0a8a-400e-b9cb-e037c9c41259",
   "metadata": {},
   "outputs": [],
   "source": [
    "import pandas as pd"
   ]
  },
  {
   "cell_type": "code",
   "execution_count": 43,
   "id": "7454db5f-6398-40cc-939a-98e502ece04d",
   "metadata": {},
   "outputs": [],
   "source": [
    "# Load the dataset\n",
    "school_data = pd.read_csv('../PyCitySchools/Resources/schools_complete.csv')\n",
    "students_data = pd.read_csv('../PyCitySchools/Resources/students_complete.csv')"
   ]
  },
  {
   "cell_type": "code",
   "execution_count": 44,
   "id": "226975c5-6e55-436d-870c-4def8b39d524",
   "metadata": {},
   "outputs": [],
   "source": [
    "# Merge the two datasets on school name to combine all necessary information\n",
    "combined_data = pd.merge(students_data, school_data, how=\"left\", on=[\"school_name\"])"
   ]
  },
  {
   "cell_type": "code",
   "execution_count": 45,
   "id": "78868008-764b-43a9-b2ac-ab26e816ec17",
   "metadata": {},
   "outputs": [],
   "source": [
    "# Group by school and calculate the required metrics\n",
    "per_school_summary = combined_data.groupby('school_name').agg({\n",
    "    'Student ID': 'count',\n",
    "    'math_score': 'mean',\n",
    "    'reading_score': 'mean',\n",
    "    'budget': 'mean'\n",
    "}).rename(columns={\n",
    "    'Student ID': 'Total Students',\n",
    "    'math_score': 'Average Math Score',\n",
    "    'reading_score': 'Average Reading Score',\n",
    "    'budget': 'Budget'})"
   ]
  },
  {
   "cell_type": "code",
   "execution_count": 46,
   "id": "4478e172-53c8-41a0-9ac2-146c5dd2c20f",
   "metadata": {},
   "outputs": [],
   "source": [
    "# Calculate % passing math and reading for each school\n",
    "per_school_summary['% Passing Math'] = combined_data[combined_data['math_score'] >= 70].groupby('school_name', observed=True)['Student ID'].count() / per_school_summary['Total Students'] * 100\n",
    "per_school_summary['% Passing Reading'] = combined_data[combined_data['reading_score'] >= 70].groupby('school_name', observed=True)['Student ID'].count() / per_school_summary['Total Students'] * 100"
   ]
  },
  {
   "cell_type": "code",
   "execution_count": 47,
   "id": "4833f40c-90a0-4fe7-b4d0-42cc8585f58b",
   "metadata": {},
   "outputs": [],
   "source": [
    "# Calculate % overall passing (students passing both math and reading)\n",
    "per_school_summary['% Overall Passing'] = combined_data[(combined_data['math_score'] >= 70) & (combined_data['reading_score'] >= 70)].groupby('school_name', observed=True)['Student ID'].count() / per_school_summary['Total Students'] * 100"
   ]
  },
  {
   "cell_type": "code",
   "execution_count": 48,
   "id": "85953131-f045-4837-90ef-8e23d15d8fa0",
   "metadata": {},
   "outputs": [],
   "source": [
    "# Define the bins for school size\n",
    "size_bins = [0, 1000, 2000, 5000]  # Adjust these numbers based on your data\n",
    "size_labels = [\"Small (<1000)\", \"Medium (1000-2000)\", \"Large (2000-5000)\"]"
   ]
  },
  {
   "cell_type": "code",
   "execution_count": 49,
   "id": "31a25bbe-a54a-42ad-b757-55d6f999df59",
   "metadata": {},
   "outputs": [],
   "source": [
    "# Use pd.cut to categorize school sizes\n",
    "per_school_summary['School Size'] = pd.cut(per_school_summary['Total Students'], bins=size_bins, labels=size_labels)"
   ]
  },
  {
   "cell_type": "code",
   "execution_count": 50,
   "id": "af9d4531-11dd-44b8-9371-ba00c64bfd5c",
   "metadata": {},
   "outputs": [],
   "source": [
    "# Group by the 'School Size' and calculate the mean for each performance metric\n",
    "size_summary = per_school_summary.groupby('School Size', observed=True).agg({\n",
    "    'Average Math Score': 'mean',\n",
    "    'Average Reading Score': 'mean',\n",
    "    '% Passing Math': 'mean',\n",
    "    '% Passing Reading': 'mean',\n",
    "    '% Overall Passing': 'mean'}).reset_index()"
   ]
  },
  {
   "cell_type": "code",
   "execution_count": 51,
   "id": "9e719cd3-99e3-4d13-a361-7c8aa7e1705a",
   "metadata": {},
   "outputs": [
    {
     "data": {
      "text/html": [
       "<div>\n",
       "<style scoped>\n",
       "    .dataframe tbody tr th:only-of-type {\n",
       "        vertical-align: middle;\n",
       "    }\n",
       "\n",
       "    .dataframe tbody tr th {\n",
       "        vertical-align: top;\n",
       "    }\n",
       "\n",
       "    .dataframe thead th {\n",
       "        text-align: right;\n",
       "    }\n",
       "</style>\n",
       "<table border=\"1\" class=\"dataframe\">\n",
       "  <thead>\n",
       "    <tr style=\"text-align: right;\">\n",
       "      <th></th>\n",
       "      <th>Total Students</th>\n",
       "      <th>Average Math Score</th>\n",
       "      <th>Average Reading Score</th>\n",
       "      <th>Budget</th>\n",
       "      <th>% Passing Math</th>\n",
       "      <th>% Passing Reading</th>\n",
       "      <th>% Overall Passing</th>\n",
       "      <th>School Size</th>\n",
       "    </tr>\n",
       "    <tr>\n",
       "      <th>school_name</th>\n",
       "      <th></th>\n",
       "      <th></th>\n",
       "      <th></th>\n",
       "      <th></th>\n",
       "      <th></th>\n",
       "      <th></th>\n",
       "      <th></th>\n",
       "      <th></th>\n",
       "    </tr>\n",
       "  </thead>\n",
       "  <tbody>\n",
       "    <tr>\n",
       "      <th>Bailey High School</th>\n",
       "      <td>4976</td>\n",
       "      <td>77.048432</td>\n",
       "      <td>81.033963</td>\n",
       "      <td>3124928.0</td>\n",
       "      <td>66.680064</td>\n",
       "      <td>81.933280</td>\n",
       "      <td>54.642283</td>\n",
       "      <td>Large (2000-5000)</td>\n",
       "    </tr>\n",
       "    <tr>\n",
       "      <th>Cabrera High School</th>\n",
       "      <td>1858</td>\n",
       "      <td>83.061895</td>\n",
       "      <td>83.975780</td>\n",
       "      <td>1081356.0</td>\n",
       "      <td>94.133477</td>\n",
       "      <td>97.039828</td>\n",
       "      <td>91.334769</td>\n",
       "      <td>Medium (1000-2000)</td>\n",
       "    </tr>\n",
       "    <tr>\n",
       "      <th>Figueroa High School</th>\n",
       "      <td>2949</td>\n",
       "      <td>76.711767</td>\n",
       "      <td>81.158020</td>\n",
       "      <td>1884411.0</td>\n",
       "      <td>65.988471</td>\n",
       "      <td>80.739234</td>\n",
       "      <td>53.204476</td>\n",
       "      <td>Large (2000-5000)</td>\n",
       "    </tr>\n",
       "    <tr>\n",
       "      <th>Ford High School</th>\n",
       "      <td>2739</td>\n",
       "      <td>77.102592</td>\n",
       "      <td>80.746258</td>\n",
       "      <td>1763916.0</td>\n",
       "      <td>68.309602</td>\n",
       "      <td>79.299014</td>\n",
       "      <td>54.289887</td>\n",
       "      <td>Large (2000-5000)</td>\n",
       "    </tr>\n",
       "    <tr>\n",
       "      <th>Griffin High School</th>\n",
       "      <td>1468</td>\n",
       "      <td>83.351499</td>\n",
       "      <td>83.816757</td>\n",
       "      <td>917500.0</td>\n",
       "      <td>93.392371</td>\n",
       "      <td>97.138965</td>\n",
       "      <td>90.599455</td>\n",
       "      <td>Medium (1000-2000)</td>\n",
       "    </tr>\n",
       "  </tbody>\n",
       "</table>\n",
       "</div>"
      ],
      "text/plain": [
       "                      Total Students  Average Math Score  \\\n",
       "school_name                                                \n",
       "Bailey High School              4976           77.048432   \n",
       "Cabrera High School             1858           83.061895   \n",
       "Figueroa High School            2949           76.711767   \n",
       "Ford High School                2739           77.102592   \n",
       "Griffin High School             1468           83.351499   \n",
       "\n",
       "                      Average Reading Score     Budget  % Passing Math  \\\n",
       "school_name                                                              \n",
       "Bailey High School                81.033963  3124928.0       66.680064   \n",
       "Cabrera High School               83.975780  1081356.0       94.133477   \n",
       "Figueroa High School              81.158020  1884411.0       65.988471   \n",
       "Ford High School                  80.746258  1763916.0       68.309602   \n",
       "Griffin High School               83.816757   917500.0       93.392371   \n",
       "\n",
       "                      % Passing Reading  % Overall Passing         School Size  \n",
       "school_name                                                                     \n",
       "Bailey High School            81.933280          54.642283   Large (2000-5000)  \n",
       "Cabrera High School           97.039828          91.334769  Medium (1000-2000)  \n",
       "Figueroa High School          80.739234          53.204476   Large (2000-5000)  \n",
       "Ford High School              79.299014          54.289887   Large (2000-5000)  \n",
       "Griffin High School           97.138965          90.599455  Medium (1000-2000)  "
      ]
     },
     "execution_count": 51,
     "metadata": {},
     "output_type": "execute_result"
    }
   ],
   "source": [
    "# Display the per_school_summary DataFrame\n",
    "per_school_summary.head()"
   ]
  },
  {
   "cell_type": "code",
   "execution_count": null,
   "id": "1e2cd771-f46f-49e7-9ec5-1cc8d4ede2dd",
   "metadata": {},
   "outputs": [],
   "source": []
  }
 ],
 "metadata": {
  "kernelspec": {
   "display_name": "Python 3 (ipykernel)",
   "language": "python",
   "name": "python3"
  },
  "language_info": {
   "codemirror_mode": {
    "name": "ipython",
    "version": 3
   },
   "file_extension": ".py",
   "mimetype": "text/x-python",
   "name": "python",
   "nbconvert_exporter": "python",
   "pygments_lexer": "ipython3",
   "version": "3.11.7"
  }
 },
 "nbformat": 4,
 "nbformat_minor": 5
}

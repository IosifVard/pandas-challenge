{
 "cells": [
  {
   "cell_type": "code",
   "execution_count": 1,
   "id": "cb1b096c-b10b-44f3-be41-6c7c9649d5a0",
   "metadata": {},
   "outputs": [],
   "source": [
    "import pandas as pd"
   ]
  },
  {
   "cell_type": "code",
   "execution_count": 2,
   "id": "ff950232-3f00-4f37-b408-fbe8f4d7f84f",
   "metadata": {},
   "outputs": [],
   "source": [
    "# Load the dataset\n",
    "school_data = pd.read_csv('../PyCitySchools/Resources/schools_complete.csv')\n",
    "students_data = pd.read_csv('../PyCitySchools/Resources/students_complete.csv')"
   ]
  },
  {
   "cell_type": "code",
   "execution_count": 3,
   "id": "229ff6c5-9f24-493b-b308-888203fc2317",
   "metadata": {},
   "outputs": [],
   "source": [
    "# Merge the two datasets on school name to combine all necessary information\n",
    "combined_data = pd.merge(students_data, school_data, how=\"left\", on=[\"school_name\"])"
   ]
  },
  {
   "cell_type": "code",
   "execution_count": 7,
   "id": "0153ef03-ceca-40d4-821e-180007770f3c",
   "metadata": {},
   "outputs": [],
   "source": [
    "# Group by school and grade, then calculate the average reading score\n",
    "grade_reading_scores = combined_data.groupby(['school_name', 'grade']).agg({\n",
    "    'reading_score': 'mean'}).rename(columns={'reading_score': 'Average Reading Score'})"
   ]
  },
  {
   "cell_type": "code",
   "execution_count": 5,
   "id": "72227ff6-098e-4499-84e3-a3d5ae268dd8",
   "metadata": {},
   "outputs": [
    {
     "name": "stdout",
     "output_type": "stream",
     "text": [
      "                             Average Reading Score\n",
      "school_name           grade                       \n",
      "Bailey High School    10th               80.907183\n",
      "                      11th               80.945643\n",
      "                      12th               80.912451\n",
      "                      9th                81.303155\n",
      "Cabrera High School   10th               84.253219\n",
      "                      11th               83.788382\n",
      "                      12th               84.287958\n",
      "                      9th                83.676136\n",
      "Figueroa High School  10th               81.408912\n",
      "                      11th               80.640339\n",
      "                      12th               81.384863\n",
      "                      9th                81.198598\n",
      "Ford High School      10th               81.262712\n",
      "                      11th               80.403642\n",
      "                      12th               80.662338\n",
      "                      9th                80.632653\n",
      "Griffin High School   10th               83.706897\n",
      "                      11th               84.288089\n",
      "                      12th               84.013699\n",
      "                      9th                83.369193\n",
      "Hernandez High School 10th               80.660147\n",
      "                      11th               81.396140\n",
      "                      12th               80.857143\n",
      "                      9th                80.866860\n",
      "Holden High School    10th               83.324561\n",
      "                      11th               83.815534\n",
      "                      12th               84.698795\n",
      "                      9th                83.677165\n",
      "Huang High School     10th               81.512386\n",
      "                      11th               81.417476\n",
      "                      12th               80.305983\n",
      "                      9th                81.290284\n",
      "Johnson High School   10th               80.773431\n",
      "                      11th               80.616027\n",
      "                      12th               81.227564\n",
      "                      9th                81.260714\n",
      "Pena High School      10th               83.612000\n",
      "                      11th               84.335938\n",
      "                      12th               84.591160\n",
      "                      9th                83.807273\n",
      "Rodriguez High School 10th               80.629808\n",
      "                      11th               80.864811\n",
      "                      12th               80.376426\n",
      "                      9th                80.993127\n",
      "Shelton High School   10th               83.441964\n",
      "                      11th               84.373786\n",
      "                      12th               82.781671\n",
      "                      9th                84.122642\n",
      "Thomas High School    10th               84.254157\n",
      "                      11th               83.585542\n",
      "                      12th               83.831361\n",
      "                      9th                83.728850\n",
      "Wilson High School    10th               84.021452\n",
      "                      11th               83.764608\n",
      "                      12th               84.317673\n",
      "                      9th                83.939778\n",
      "Wright High School    10th               83.812757\n",
      "                      11th               84.156322\n",
      "                      12th               84.073171\n",
      "                      9th                83.833333\n"
     ]
    }
   ],
   "source": [
    "# Display the DataFrame\n",
    "print(grade_reading_scores)"
   ]
  },
  {
   "cell_type": "code",
   "execution_count": null,
   "id": "af322079-e627-4192-a665-e2d4433e950f",
   "metadata": {},
   "outputs": [],
   "source": []
  }
 ],
 "metadata": {
  "kernelspec": {
   "display_name": "Python 3 (ipykernel)",
   "language": "python",
   "name": "python3"
  },
  "language_info": {
   "codemirror_mode": {
    "name": "ipython",
    "version": 3
   },
   "file_extension": ".py",
   "mimetype": "text/x-python",
   "name": "python",
   "nbconvert_exporter": "python",
   "pygments_lexer": "ipython3",
   "version": "3.11.7"
  }
 },
 "nbformat": 4,
 "nbformat_minor": 5
}

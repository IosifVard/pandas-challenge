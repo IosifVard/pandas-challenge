{
 "cells": [
  {
   "cell_type": "code",
   "execution_count": 1,
   "id": "ef8ff88f-0b7c-45b3-83f7-30c8aadff45e",
   "metadata": {},
   "outputs": [],
   "source": [
    "import pandas as pd"
   ]
  },
  {
   "cell_type": "code",
   "execution_count": 2,
   "id": "33a6aed0-37b9-4ff7-925e-2de1db540148",
   "metadata": {},
   "outputs": [],
   "source": [
    "# Load the dataset\n",
    "school_data = pd.read_csv('../PyCitySchools/Resources/schools_complete.csv')\n",
    "students_data = pd.read_csv('../PyCitySchools/Resources/students_complete.csv')"
   ]
  },
  {
   "cell_type": "code",
   "execution_count": 3,
   "id": "7679a3e6-048d-45f0-b302-d24328934331",
   "metadata": {},
   "outputs": [],
   "source": [
    "# Merge the two datasets on school name to combine all necessary information\n",
    "combined_data = pd.merge(students_data, school_data, how=\"left\", on=[\"school_name\"])"
   ]
  },
  {
   "cell_type": "code",
   "execution_count": 4,
   "id": "cd786dd0-679d-43b2-bda5-3ef6e40b7ac1",
   "metadata": {},
   "outputs": [],
   "source": [
    "# Calculate % Overall Passing for each school\n",
    "school_summary = combined_data.groupby('school_name').agg({\n",
    "    'Student ID': 'count',\n",
    "    'math_score': 'mean',\n",
    "    'reading_score': 'mean',\n",
    "    'budget': 'mean'\n",
    "}).rename(columns={\n",
    "    'Student ID': 'Total Students',\n",
    "    'math_score': 'Average Math Score',\n",
    "    'reading_score': 'Average Reading Score',\n",
    "    'budget': 'Budget'\n",
    "})"
   ]
  },
  {
   "cell_type": "code",
   "execution_count": 5,
   "id": "902993ff-b431-4e96-8f7d-38453b929c51",
   "metadata": {},
   "outputs": [],
   "source": [
    "# Calculate % passing math and reading for each school\n",
    "school_summary['% Passing Math'] = combined_data[combined_data['math_score'] >= 70].groupby('school_name')['Student ID'].count() / school_summary['Total Students'] * 100\n",
    "school_summary['% Passing Reading'] = combined_data[combined_data['reading_score'] >= 70].groupby('school_name')['Student ID'].count() / school_summary['Total Students'] * 100"
   ]
  },
  {
   "cell_type": "code",
   "execution_count": 6,
   "id": "9e76d5f1-40cc-43e5-8d72-1feb658d7641",
   "metadata": {},
   "outputs": [],
   "source": [
    "# Calculate % Overall Passing for each school\n",
    "school_summary['% Overall Passing'] = combined_data[(combined_data['math_score'] >= 70) & (combined_data['reading_score'] >= 70)].groupby('school_name')['Student ID'].count() / school_summary['Total Students'] * 100"
   ]
  },
  {
   "cell_type": "code",
   "execution_count": 7,
   "id": "6d2d1557-a33a-43b9-94c6-0375b7ae168e",
   "metadata": {},
   "outputs": [],
   "source": [
    "# Sort the schools by % Overall Passing in ascending order\n",
    "bottom_schools = school_summary.sort_values(by='% Overall Passing', ascending=True).head(5)"
   ]
  },
  {
   "cell_type": "code",
   "execution_count": 8,
   "id": "d7fb37d6-a9ec-4eef-a197-64accd62a21d",
   "metadata": {},
   "outputs": [
    {
     "name": "stdout",
     "output_type": "stream",
     "text": [
      "                       Total Students  Average Math Score  \\\n",
      "school_name                                                 \n",
      "Rodriguez High School            3999           76.842711   \n",
      "Figueroa High School             2949           76.711767   \n",
      "Huang High School                2917           76.629414   \n",
      "Hernandez High School            4635           77.289752   \n",
      "Johnson High School              4761           77.072464   \n",
      "\n",
      "                       Average Reading Score     Budget  % Passing Math  \\\n",
      "school_name                                                               \n",
      "Rodriguez High School              80.744686  2547363.0       66.366592   \n",
      "Figueroa High School               81.158020  1884411.0       65.988471   \n",
      "Huang High School                  81.182722  1910635.0       65.683922   \n",
      "Hernandez High School              80.934412  3022020.0       66.752967   \n",
      "Johnson High School                80.966394  3094650.0       66.057551   \n",
      "\n",
      "                       % Passing Reading  % Overall Passing  \n",
      "school_name                                                  \n",
      "Rodriguez High School          80.220055          52.988247  \n",
      "Figueroa High School           80.739234          53.204476  \n",
      "Huang High School              81.316421          53.513884  \n",
      "Hernandez High School          80.862999          53.527508  \n",
      "Johnson High School            81.222432          53.539172  \n"
     ]
    }
   ],
   "source": [
    "# Display the bottom 5 schools\n",
    "print(bottom_schools)"
   ]
  },
  {
   "cell_type": "code",
   "execution_count": null,
   "id": "7d691cbe-aace-4b7e-820b-5e2ff509b9fb",
   "metadata": {},
   "outputs": [],
   "source": []
  }
 ],
 "metadata": {
  "kernelspec": {
   "display_name": "Python 3 (ipykernel)",
   "language": "python",
   "name": "python3"
  },
  "language_info": {
   "codemirror_mode": {
    "name": "ipython",
    "version": 3
   },
   "file_extension": ".py",
   "mimetype": "text/x-python",
   "name": "python",
   "nbconvert_exporter": "python",
   "pygments_lexer": "ipython3",
   "version": "3.11.7"
  }
 },
 "nbformat": 4,
 "nbformat_minor": 5
}

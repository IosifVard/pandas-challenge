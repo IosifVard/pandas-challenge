{
 "cells": [
  {
   "cell_type": "code",
   "execution_count": 26,
   "id": "c424d82e-391b-4aa8-9104-f8c73dce5983",
   "metadata": {},
   "outputs": [],
   "source": [
    "import pandas as pd"
   ]
  },
  {
   "cell_type": "code",
   "execution_count": 27,
   "id": "b029e8f3-e607-4746-bb35-62ddf6e6f239",
   "metadata": {},
   "outputs": [],
   "source": [
    "# Load the dataset\n",
    "school_data = pd.read_csv('../PyCitySchools/Resources/schools_complete.csv')\n",
    "students_data = pd.read_csv('../PyCitySchools/Resources/students_complete.csv')"
   ]
  },
  {
   "cell_type": "code",
   "execution_count": 28,
   "id": "955aea95-be2d-44fb-bdce-ba125c8ccd8e",
   "metadata": {},
   "outputs": [],
   "source": [
    "# Merge the two datasets on school name to combine all necessary information\n",
    "combined_data = pd.merge(students_data, school_data, how=\"left\", on=[\"school_name\"])"
   ]
  },
  {
   "cell_type": "code",
   "execution_count": 29,
   "id": "07bda476-77ab-4e45-93ec-d5b47e322131",
   "metadata": {},
   "outputs": [],
   "source": [
    "# Calculate spending per student\n",
    "combined_data['Spending Per Student'] = combined_data['budget'] / combined_data['size']"
   ]
  },
  {
   "cell_type": "code",
   "execution_count": 30,
   "id": "e780c9c3-d593-4e77-be90-55f03358dcad",
   "metadata": {},
   "outputs": [],
   "source": [
    "# Create bins and labels for spending ranges\n",
    "spending_bins = [0, 585, 630, 645, 680]\n",
    "labels = [\"<$585\", \"$585-630\", \"$630-645\", \"$645-680\"]"
   ]
  },
  {
   "cell_type": "code",
   "execution_count": 31,
   "id": "7423dc19-ad6a-4937-9a15-0ab19dad4bdf",
   "metadata": {},
   "outputs": [],
   "source": [
    "# Categorize spending based on the bins\n",
    "combined_data['Spending Range (Per Student)'] = pd.cut(combined_data['Spending Per Student'], bins=spending_bins, labels=labels)"
   ]
  },
  {
   "cell_type": "code",
   "execution_count": 32,
   "id": "95c20713-9996-4f90-9156-e01f70f2a4b3",
   "metadata": {},
   "outputs": [],
   "source": [
    "# Group by the spending range and calculate mean scores\n",
    "school_spending_df = combined_data.groupby('Spending Range (Per Student)', observed=True).agg({\n",
    "    'math_score': 'mean',\n",
    "    'reading_score': 'mean',\n",
    "    'Student ID': 'count'\n",
    "}).rename(columns={\n",
    "    'math_score': 'Average Math Score',\n",
    "    'reading_score': 'Average Reading Score',\n",
    "    'Student ID': 'Total Students'\n",
    "})"
   ]
  },
  {
   "cell_type": "code",
   "execution_count": 33,
   "id": "3730053f-be78-4bda-9d42-f42bd8638967",
   "metadata": {},
   "outputs": [],
   "source": [
    "# Calculate % passing math and reading\n",
    "school_spending_df['% Passing Math'] = (combined_data[combined_data['math_score'] >= 70].groupby('Spending Range (Per Student)', observed=True)['Student ID'].count() / school_spending_df['Total Students']) * 100\n",
    "school_spending_df['% Passing Reading'] = (combined_data[combined_data['reading_score'] >= 70].groupby('Spending Range (Per Student)', observed=True)['Student ID'].count() / school_spending_df['Total Students']) * 100"
   ]
  },
  {
   "cell_type": "code",
   "execution_count": 34,
   "id": "0b4baeac-15d4-496f-b143-cc6640c1c170",
   "metadata": {},
   "outputs": [],
   "source": [
    "# Calculate % overall passing\n",
    "school_spending_df['% Overall Passing'] = (combined_data[(combined_data['math_score'] >= 70) & (combined_data['reading_score'] >= 70)].groupby('Spending Range (Per Student)', observed=True)['Student ID'].count() / school_spending_df['Total Students']) * 100"
   ]
  },
  {
   "cell_type": "code",
   "execution_count": 38,
   "id": "643a03ef-b6c5-4e3b-9786-17d0a43c2393",
   "metadata": {},
   "outputs": [],
   "source": [
    "# Calculate mean scores per spending range\n",
    "spending_math_scores = school_spending_df.groupby(\"Spending Range (Per Student)\", observed=True)[\"Average Math Score\"].mean()\n",
    "spending_reading_scores = school_spending_df.groupby(\"Spending Range (Per Student)\", observed=True)[\"Average Reading Score\"].mean()\n",
    "spending_passing_math = school_spending_df.groupby(\"Spending Range (Per Student)\", observed=True)[\"% Passing Math\"].mean()\n",
    "spending_passing_reading = school_spending_df.groupby(\"Spending Range (Per Student)\", observed=True)[\"% Passing Reading\"].mean()\n",
    "overall_passing_spending = school_spending_df.groupby(\"Spending Range (Per Student)\", observed=True)[\"% Overall Passing\"].mean()"
   ]
  },
  {
   "cell_type": "code",
   "execution_count": 41,
   "id": "1d3244f0-2148-4242-9880-89a108623029",
   "metadata": {},
   "outputs": [
    {
     "name": "stdout",
     "output_type": "stream",
     "text": [
      "                              Average Math Score  Average Reading Score  \\\n",
      "Spending Range (Per Student)                                              \n",
      "<$585                                  83.363065              83.964039   \n",
      "$585-630                               79.982873              82.312643   \n",
      "$630-645                               77.821056              81.301007   \n",
      "$645-680                               77.049297              81.005604   \n",
      "\n",
      "                              % Passing Math  % Passing Reading  \\\n",
      "Spending Range (Per Student)                                      \n",
      "<$585                              93.702889          96.686558   \n",
      "$585-630                           79.109851          88.513145   \n",
      "$630-645                           70.623565          82.600247   \n",
      "$645-680                           66.230813          81.109397   \n",
      "\n",
      "                              % Overall Passing  \n",
      "Spending Range (Per Student)                     \n",
      "<$585                                 90.640704  \n",
      "$585-630                              70.939239  \n",
      "$630-645                              58.841194  \n",
      "$645-680                              53.528791  \n"
     ]
    }
   ],
   "source": [
    "# Display the summary DataFrame\n",
    "print(spending_summary_df)"
   ]
  }
 ],
 "metadata": {
  "kernelspec": {
   "display_name": "Python 3 (ipykernel)",
   "language": "python",
   "name": "python3"
  },
  "language_info": {
   "codemirror_mode": {
    "name": "ipython",
    "version": 3
   },
   "file_extension": ".py",
   "mimetype": "text/x-python",
   "name": "python",
   "nbconvert_exporter": "python",
   "pygments_lexer": "ipython3",
   "version": "3.11.7"
  }
 },
 "nbformat": 4,
 "nbformat_minor": 5
}

{
 "cells": [
  {
   "cell_type": "code",
   "execution_count": 7,
   "id": "f13839c2-34a6-4b98-be30-ebd4a5bd58c0",
   "metadata": {},
   "outputs": [],
   "source": [
    "import pandas as pd"
   ]
  },
  {
   "cell_type": "code",
   "execution_count": 2,
   "id": "a5da913a-5903-4358-aee2-62bf36f736ab",
   "metadata": {},
   "outputs": [],
   "source": [
    "# Load the dataset\n",
    "school_data = pd.read_csv('../PyCitySchools/Resources/schools_complete.csv')\n",
    "students_data = pd.read_csv('../PyCitySchools/Resources/students_complete.csv')"
   ]
  },
  {
   "cell_type": "code",
   "execution_count": 3,
   "id": "fa092335-96c6-4fc9-9d6d-f02f7b2b469e",
   "metadata": {},
   "outputs": [],
   "source": [
    "# Merge the two datasets on school name to combine all necessary information\n",
    "combined_data = pd.merge(students_data, school_data, how=\"left\", on=[\"school_name\"])"
   ]
  },
  {
   "cell_type": "code",
   "execution_count": 4,
   "id": "e291ce51-0202-4173-bb21-d6d394e02121",
   "metadata": {},
   "outputs": [],
   "source": [
    "# Group by school and grade, then calculate the average math score\n",
    "grade_math_scores = combined_data.groupby(['school_name', 'grade']).agg({\n",
    "    'math_score': 'mean'\n",
    "}).rename(columns={'math_score': 'Average Math Score'})"
   ]
  },
  {
   "cell_type": "code",
   "execution_count": 5,
   "id": "9d3fd9e8-d939-4ce1-a225-be8c65be97bb",
   "metadata": {},
   "outputs": [],
   "source": [
    "# Optionally, sort the DataFrame for better readability\n",
    "grade_math_scores = grade_math_scores.sort_index(level=['school_name', 'grade'])"
   ]
  },
  {
   "cell_type": "code",
   "execution_count": 6,
   "id": "08394d5b-5bc2-466e-a96c-1c6405ec95d8",
   "metadata": {},
   "outputs": [
    {
     "name": "stdout",
     "output_type": "stream",
     "text": [
      "                             Average Math Score\n",
      "school_name           grade                    \n",
      "Bailey High School    10th            76.996772\n",
      "                      11th            77.515588\n",
      "                      12th            76.492218\n",
      "                      9th             77.083676\n",
      "Cabrera High School   10th            83.154506\n",
      "                      11th            82.765560\n",
      "                      12th            83.277487\n",
      "                      9th             83.094697\n",
      "Figueroa High School  10th            76.539974\n",
      "                      11th            76.884344\n",
      "                      12th            77.151369\n",
      "                      9th             76.403037\n",
      "Ford High School      10th            77.672316\n",
      "                      11th            76.918058\n",
      "                      12th            76.179963\n",
      "                      9th             77.361345\n",
      "Griffin High School   10th            84.229064\n",
      "                      11th            83.842105\n",
      "                      12th            83.356164\n",
      "                      9th             82.044010\n",
      "Hernandez High School 10th            77.337408\n",
      "                      11th            77.136029\n",
      "                      12th            77.186567\n",
      "                      9th             77.438495\n",
      "Holden High School    10th            83.429825\n",
      "                      11th            85.000000\n",
      "                      12th            82.855422\n",
      "                      9th             83.787402\n",
      "Huang High School     10th            75.908735\n",
      "                      11th            76.446602\n",
      "                      12th            77.225641\n",
      "                      9th             77.027251\n",
      "Johnson High School   10th            76.691117\n",
      "                      11th            77.491653\n",
      "                      12th            76.863248\n",
      "                      9th             77.187857\n",
      "Pena High School      10th            83.372000\n",
      "                      11th            84.328125\n",
      "                      12th            84.121547\n",
      "                      9th             83.625455\n",
      "Rodriguez High School 10th            76.612500\n",
      "                      11th            76.395626\n",
      "                      12th            77.690748\n",
      "                      9th             76.859966\n",
      "Shelton High School   10th            82.917411\n",
      "                      11th            83.383495\n",
      "                      12th            83.778976\n",
      "                      9th             83.420755\n",
      "Thomas High School    10th            83.087886\n",
      "                      11th            83.498795\n",
      "                      12th            83.497041\n",
      "                      9th             83.590022\n",
      "Wilson High School    10th            83.724422\n",
      "                      11th            83.195326\n",
      "                      12th            83.035794\n",
      "                      9th             83.085578\n",
      "Wright High School    10th            84.010288\n",
      "                      11th            83.836782\n",
      "                      12th            83.644986\n",
      "                      9th             83.264706\n"
     ]
    }
   ],
   "source": [
    "# Display the DataFrame\n",
    "print(grade_math_scores)"
   ]
  },
  {
   "cell_type": "code",
   "execution_count": null,
   "id": "7b4cde3f-d3f0-47b9-99a5-206452bc7149",
   "metadata": {},
   "outputs": [],
   "source": []
  }
 ],
 "metadata": {
  "kernelspec": {
   "display_name": "Python 3 (ipykernel)",
   "language": "python",
   "name": "python3"
  },
  "language_info": {
   "codemirror_mode": {
    "name": "ipython",
    "version": 3
   },
   "file_extension": ".py",
   "mimetype": "text/x-python",
   "name": "python",
   "nbconvert_exporter": "python",
   "pygments_lexer": "ipython3",
   "version": "3.11.7"
  }
 },
 "nbformat": 4,
 "nbformat_minor": 5
}
